{
 "cells": [
  {
   "cell_type": "markdown",
   "metadata": {},
   "source": [
    "# Homework 4: Practical analysis with BioPython"
   ]
  },
  {
   "cell_type": "markdown",
   "metadata": {},
   "source": [
    "For the homework, you are going to extend the code from real biological analysis of our FASTQ files in lectures 8 and 9.\n",
    "\n",
    "As described in the Jupyter notebook for that lecture, the FASTQ reads can originate from **either** HA or NA, and that will be distinguished by the most 3' end of the read.\n",
    "But in our example, we did not distinguish among reads matching to HA and NA, as we didn't even look far enough into the read to tell the identity.\n",
    "\n",
    "For the homework, your goal is to write code that extends the material from lectures 8 and 9 to also distinguish between HA and NA.\n",
    "\n",
    "Please include code to address each of the following questions. Please include code comments to explain what your code is attempting to accomplish. Don't forget to include references to the sources you used to obtain your answer, including your classmates (if you are working in groups).  "
   ]
  },
  {
   "cell_type": "markdown",
   "metadata": {},
   "source": [
    "1. How many reads map to HA, and how many reads map to NA?"
   ]
  },
  {
   "cell_type": "code",
   "execution_count": 2,
   "metadata": {},
   "outputs": [],
   "source": [
    "import re\n",
    "import Bio.SeqIO"
   ]
  },
  {
   "cell_type": "code",
   "execution_count": 3,
   "metadata": {},
   "outputs": [],
   "source": [
    "'''read in fastq data and convert reads to strings'''\n",
    "\n",
    "seqreads = list(Bio.SeqIO.parse('barcodes_R1.fastq', format='fastq'))\n",
    "seqreads_str = [str(s.seq) for s in seqreads]"
   ]
  },
  {
   "cell_type": "code",
   "execution_count": 4,
   "metadata": {},
   "outputs": [],
   "source": [
    "'''function to find reverse compliment from lecture 9'''\n",
    "\n",
    "def rev_comp(seq, base_partner = {'A':'T', 'T':'A', 'C':'G', 'G':'C'}):\n",
    "    rc_dict = {'A': 'T', 'T': 'A', 'G': 'C', 'C': 'G', 'N': 'N'}\n",
    "    revcomplement = []\n",
    "    for nt in reversed(seq.upper()):\n",
    "        revcomplement.append(rc_dict[nt])\n",
    "    return ''.join(revcomplement)"
   ]
  },
  {
   "cell_type": "code",
   "execution_count": 5,
   "metadata": {},
   "outputs": [
    {
     "name": "stdout",
     "output_type": "stream",
     "text": [
      "4122 reads map to NA\n",
      "5409 reads map to HA\n"
     ]
    }
   ],
   "source": [
    "'''loops through the reads and adds one to NA_count if the rev comp of the end of NA is in\n",
    "the read, adds one to HA_count if the rev comp of the end of HA is in the read, and skips otherwise''' \n",
    "\n",
    "# initialize counting variables for NA and HA\n",
    "NA_count = 0\n",
    "HA_count = 0\n",
    "\n",
    "# store NA and HA sequence ends as variables\n",
    "NA_end = 'CACGATAGATAAATAATAGTGCACCAT'\n",
    "HA_end = 'CCGGATTTGCATATAATGATGCACCAT'\n",
    "\n",
    "# reverse compliment every read in the list\n",
    "rev_seqreads_str = [rev_comp(s) for s in seqreads_str]\n",
    "\n",
    "# loop through list of reads and add to either HA or NA count depending on whether NA or HA sequence is present\n",
    "# if neither is present it will just continue to the next read\n",
    "for seq in rev_seqreads_str :\n",
    "    if NA_end in seq:\n",
    "        NA_count += 1\n",
    "    elif HA_end in seq:\n",
    "        HA_count += 1\n",
    "    else:\n",
    "        continue\n",
    "        \n",
    "print(NA_count, \"reads map to NA\")\n",
    "print(HA_count, \"reads map to HA\")"
   ]
  },
  {
   "cell_type": "markdown",
   "metadata": {},
   "source": [
    "2. What is the HA barcode with the most counts (and how many counts)? Also answer the same question for NA."
   ]
  },
  {
   "cell_type": "code",
   "execution_count": 6,
   "metadata": {},
   "outputs": [
    {
     "name": "stdout",
     "output_type": "stream",
     "text": [
      "The most common HA barcode is CCCGACCCGACATTAA with 157 counts\n",
      "The most common NA barcode is ACCAGTTCTCCCCGGG with 153 counts\n"
     ]
    }
   ],
   "source": [
    "'''loops through the reads and counts the occurences of each barcode for NA and HA'''\n",
    "\n",
    "# initialize empty dicts to keep track of barcode counts\n",
    "NA_barcodes = {}\n",
    "HA_barcodes = {}\n",
    "\n",
    "# loop through and add barcode (last 16 nts) to dict (if not there already) or increase \n",
    "# barcode count (if barcode is in dict already)\n",
    "for seq in rev_seqreads_str :\n",
    "    if NA_end in seq:\n",
    "        if seq[-16:] in NA_barcodes: \n",
    "            NA_barcodes[seq[-16:]] += 1\n",
    "        else: \n",
    "            NA_barcodes[seq[-16:]] = 1\n",
    "    elif HA_end in seq:\n",
    "        if seq[-16:] in HA_barcodes: \n",
    "            HA_barcodes[seq[-16:]] += 1\n",
    "        else: \n",
    "            HA_barcodes[seq[-16:]] = 1\n",
    "    else:\n",
    "        continue\n",
    "\n",
    "# find max value (barcode count) in the HA and NA dicts\n",
    "max_HA = max(HA_barcodes, key=HA_barcodes.get)\n",
    "max_NA = max(NA_barcodes, key=NA_barcodes.get)\n",
    "\n",
    "# print out most commmon HA and NA barcodes and their counts\n",
    "print('The most common HA barcode is', max_HA, 'with', HA_barcodes.get(max_HA), 'counts')\n",
    "print('The most common NA barcode is', max_NA, 'with', NA_barcodes.get(max_NA), 'counts')"
   ]
  }
 ],
 "metadata": {
  "kernelspec": {
   "display_name": "Python 3 (ipykernel)",
   "language": "python",
   "name": "python3"
  },
  "language_info": {
   "codemirror_mode": {
    "name": "ipython",
    "version": 3
   },
   "file_extension": ".py",
   "mimetype": "text/x-python",
   "name": "python",
   "nbconvert_exporter": "python",
   "pygments_lexer": "ipython3",
   "version": "3.8.5"
  },
  "toc": {
   "nav_menu": {},
   "number_sections": false,
   "sideBar": true,
   "skip_h1_title": false,
   "toc_cell": false,
   "toc_position": {
    "height": "623.8px",
    "left": "0px",
    "right": "829.6px",
    "top": "33.2px",
    "width": "322.4px"
   },
   "toc_section_display": "block",
   "toc_window_display": true
  }
 },
 "nbformat": 4,
 "nbformat_minor": 2
}
